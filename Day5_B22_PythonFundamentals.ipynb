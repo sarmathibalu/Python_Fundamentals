{
 "cells": [
  {
   "cell_type": "code",
   "execution_count": 1,
   "metadata": {},
   "outputs": [],
   "source": [
    "#Introduction to for loops"
   ]
  },
  {
   "cell_type": "code",
   "execution_count": 4,
   "metadata": {},
   "outputs": [
    {
     "name": "stdout",
     "output_type": "stream",
     "text": [
      "Axis Bank wishes you a veru happy new year Arsh\n"
     ]
    }
   ],
   "source": [
    "bank_customers=['arsh','kiran','ravi','usha','bhavya','deepak']\n",
    "print(f\"Axis Bank wishes you a veru happy new year {bank_customers[0].title()}\")"
   ]
  },
  {
   "cell_type": "code",
   "execution_count": 6,
   "metadata": {},
   "outputs": [
    {
     "name": "stdout",
     "output_type": "stream",
     "text": [
      "Axis Bank wishes you a veru happy new year Kiran\n"
     ]
    }
   ],
   "source": [
    "print(f\"Axis Bank wishes you a veru happy new year {bank_customers[1].title()}\")"
   ]
  },
  {
   "cell_type": "code",
   "execution_count": 8,
   "metadata": {},
   "outputs": [
    {
     "name": "stdout",
     "output_type": "stream",
     "text": [
      "Axis bank wishes you a happy new year, Arsh\n",
      "Axis bank wishes you a happy new year, Kiran\n",
      "Axis bank wishes you a happy new year, Ravi\n",
      "Axis bank wishes you a happy new year, Usha\n",
      "Axis bank wishes you a happy new year, Bhavya\n",
      "Axis bank wishes you a happy new year, Deepak\n"
     ]
    }
   ],
   "source": [
    "for customers in bank_customers:\n",
    "    print(f\"Axis bank wishes you a happy new year, {customers.title()}\")stu"
   ]
  },
  {
   "cell_type": "code",
   "execution_count": 9,
   "metadata": {},
   "outputs": [
    {
     "name": "stdout",
     "output_type": "stream",
     "text": [
      "Axis bank wishes you a happy new year, Arsh\n",
      "Axis bank wishes you a happy new year, Kiran\n",
      "Axis bank wishes you a happy new year, Ravi\n",
      "Axis bank wishes you a happy new year, Usha\n",
      "Axis bank wishes you a happy new year, Bhavya\n",
      "Axis bank wishes you a happy new year, Deepak\n"
     ]
    }
   ],
   "source": [
    "for m in bank_customers:\n",
    "    print(f\"Axis bank wishes you a happy new year, {m.title()}\")"
   ]
  },
  {
   "cell_type": "code",
   "execution_count": 10,
   "metadata": {},
   "outputs": [
    {
     "ename": "IndentationError",
     "evalue": "expected an indented block (<ipython-input-10-07c4a01b9376>, line 2)",
     "output_type": "error",
     "traceback": [
      "\u001b[1;36m  File \u001b[1;32m\"<ipython-input-10-07c4a01b9376>\"\u001b[1;36m, line \u001b[1;32m2\u001b[0m\n\u001b[1;33m    print(f\"Axis bank wishes you a happy new year, {y.title()}\")\u001b[0m\n\u001b[1;37m        ^\u001b[0m\n\u001b[1;31mIndentationError\u001b[0m\u001b[1;31m:\u001b[0m expected an indented block\n"
     ]
    }
   ],
   "source": [
    "for y in bank_customers:\n",
    "print(f\"Axis bank wishes you a happy new year, {y.title()}\")"
   ]
  },
  {
   "cell_type": "code",
   "execution_count": 15,
   "metadata": {},
   "outputs": [
    {
     "name": "stdout",
     "output_type": "stream",
     "text": [
      "Arjun\n",
      "Aryan\n",
      "Aravind\n",
      "Gokul\n"
     ]
    }
   ],
   "source": [
    "students=['arjun','aryan','aravind','gokul']\n",
    "for stud in students:\n",
    "    print(stud.title())"
   ]
  },
  {
   "cell_type": "code",
   "execution_count": 17,
   "metadata": {},
   "outputs": [
    {
     "name": "stdout",
     "output_type": "stream",
     "text": [
      "Good work, Arjun\n",
      "Good work, Aryan\n",
      "Good work, Aravind\n",
      "Good work, Gokul\n"
     ]
    }
   ],
   "source": [
    "for stud in students:\n",
    "    print(f\"Good work, {stud.title()}\")"
   ]
  },
  {
   "cell_type": "code",
   "execution_count": 19,
   "metadata": {},
   "outputs": [
    {
     "name": "stdout",
     "output_type": "stream",
     "text": [
      "Good work, Arjun\n",
      "Keep it up, Arjun\n",
      "Good work, Aryan\n",
      "Keep it up, Aryan\n",
      "Good work, Aravind\n",
      "Keep it up, Aravind\n",
      "Good work, Gokul\n",
      "Keep it up, Gokul\n"
     ]
    }
   ],
   "source": [
    "for stud in students:\n",
    "    print(f\"Good work, {stud.title()}\")\n",
    "    print(f\"Keep it up, {stud.title()}\")"
   ]
  },
  {
   "cell_type": "code",
   "execution_count": 21,
   "metadata": {},
   "outputs": [
    {
     "name": "stdout",
     "output_type": "stream",
     "text": [
      "Good work, Arjun\n",
      "Keep it up, Arjun\n",
      "\n",
      "Good work, Aryan\n",
      "Keep it up, Aryan\n",
      "\n",
      "Good work, Aravind\n",
      "Keep it up, Aravind\n",
      "\n",
      "Good work, Gokul\n",
      "Keep it up, Gokul\n",
      "\n"
     ]
    }
   ],
   "source": [
    "for stud in students:\n",
    "    print(f\"Good work, {stud.title()}\")\n",
    "    print(f\"Keep it up, {stud.title()}\\n\")"
   ]
  },
  {
   "cell_type": "code",
   "execution_count": 27,
   "metadata": {},
   "outputs": [
    {
     "name": "stdout",
     "output_type": "stream",
     "text": [
      "Good work, Arjun\n",
      "Keep it up, Arjun\n",
      "\n",
      "Good work, Aryan\n",
      "Keep it up, Aryan\n",
      "\n",
      "Good work, Aravind\n",
      "Keep it up, Aravind\n",
      "\n",
      "Good work, Gokul\n",
      "Keep it up, Gokul\n",
      "\n",
      "Thank you.\n"
     ]
    }
   ],
   "source": [
    "for stud in students:\n",
    "    print(f\"Good work, {stud.title()}\")\n",
    "    print(f\"Keep it up, {stud.title()}\\n\")\n",
    "print('Thank you.')"
   ]
  },
  {
   "cell_type": "code",
   "execution_count": null,
   "metadata": {},
   "outputs": [],
   "source": []
  }
 ],
 "metadata": {
  "kernelspec": {
   "display_name": "Python 3",
   "language": "python",
   "name": "python3"
  },
  "language_info": {
   "codemirror_mode": {
    "name": "ipython",
    "version": 3
   },
   "file_extension": ".py",
   "mimetype": "text/x-python",
   "name": "python",
   "nbconvert_exporter": "python",
   "pygments_lexer": "ipython3",
   "version": "3.7.6"
  }
 },
 "nbformat": 4,
 "nbformat_minor": 4
}
