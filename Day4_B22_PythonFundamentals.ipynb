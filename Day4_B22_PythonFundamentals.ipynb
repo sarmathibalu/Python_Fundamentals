{
 "cells": [
  {
   "cell_type": "code",
   "execution_count": 1,
   "metadata": {},
   "outputs": [],
   "source": [
    "#LIST DATA TYPE\n",
    "indian_languages=['tamil','hindi','malayalam','kannada','telugu']"
   ]
  },
  {
   "cell_type": "code",
   "execution_count": 2,
   "metadata": {},
   "outputs": [
    {
     "data": {
      "text/plain": [
       "list"
      ]
     },
     "execution_count": 2,
     "metadata": {},
     "output_type": "execute_result"
    }
   ],
   "source": [
    "type(indian_languages)"
   ]
  },
  {
   "cell_type": "code",
   "execution_count": 3,
   "metadata": {},
   "outputs": [
    {
     "name": "stdout",
     "output_type": "stream",
     "text": [
      "kannada\n"
     ]
    }
   ],
   "source": [
    "#INTRODUCTION TO INDEXING\n",
    "#how to retrieve elements from a list\n",
    "print(indian_languages[3])"
   ]
  },
  {
   "cell_type": "code",
   "execution_count": 4,
   "metadata": {},
   "outputs": [
    {
     "name": "stdout",
     "output_type": "stream",
     "text": [
      "tamil\n"
     ]
    }
   ],
   "source": [
    "print(indian_languages[3])"
   ]
  },
  {
   "cell_type": "code",
   "execution_count": 5,
   "metadata": {},
   "outputs": [
    {
     "ename": "IndexError",
     "evalue": "list index out of range",
     "output_type": "error",
     "traceback": [
      "\u001b[1;31m---------------------------------------------------------------------------\u001b[0m",
      "\u001b[1;31mIndexError\u001b[0m                                Traceback (most recent call last)",
      "\u001b[1;32m<ipython-input-5-804b7a777385>\u001b[0m in \u001b[0;36m<module>\u001b[1;34m\u001b[0m\n\u001b[1;32m----> 1\u001b[1;33m \u001b[0mprint\u001b[0m\u001b[1;33m(\u001b[0m\u001b[0mindian_languages\u001b[0m\u001b[1;33m[\u001b[0m\u001b[1;36m5\u001b[0m\u001b[1;33m]\u001b[0m\u001b[1;33m)\u001b[0m\u001b[1;33m\u001b[0m\u001b[1;33m\u001b[0m\u001b[0m\n\u001b[0m",
      "\u001b[1;31mIndexError\u001b[0m: list index out of range"
     ]
    }
   ],
   "source": [
    "print(indian_languages[5])"
   ]
  },
  {
   "cell_type": "code",
   "execution_count": 6,
   "metadata": {},
   "outputs": [
    {
     "name": "stdout",
     "output_type": "stream",
     "text": [
      "Kannada\n"
     ]
    }
   ],
   "source": [
    "print(indian_languages[3].title())"
   ]
  },
  {
   "cell_type": "code",
   "execution_count": 7,
   "metadata": {},
   "outputs": [],
   "source": [
    "#REASSIGNMENT OF ELEMENTS IN LIST\n",
    "#replacing kannada with assamese\n",
    "indian_languages[3]='assamese'"
   ]
  },
  {
   "cell_type": "code",
   "execution_count": 8,
   "metadata": {},
   "outputs": [
    {
     "name": "stdout",
     "output_type": "stream",
     "text": [
      "['tamil', 'hindi', 'malayalam', 'assamese', 'telugu']\n"
     ]
    }
   ],
   "source": [
    "print(indian_languages)"
   ]
  },
  {
   "cell_type": "code",
   "execution_count": 9,
   "metadata": {},
   "outputs": [],
   "source": [
    "#adding new elements to the list\n",
    "#use of append\n",
    "indian_languages.append('odiya')     #append adds element to the end of the list"
   ]
  },
  {
   "cell_type": "code",
   "execution_count": 10,
   "metadata": {},
   "outputs": [
    {
     "name": "stdout",
     "output_type": "stream",
     "text": [
      "['tamil', 'hindi', 'malayalam', 'assamese', 'telugu', 'odiya']\n"
     ]
    }
   ],
   "source": [
    "print(indian_languages)"
   ]
  },
  {
   "cell_type": "code",
   "execution_count": 11,
   "metadata": {},
   "outputs": [],
   "source": [
    "#use of insert\n",
    "indian_languages.insert(4,'gujarati')"
   ]
  },
  {
   "cell_type": "code",
   "execution_count": 12,
   "metadata": {},
   "outputs": [
    {
     "name": "stdout",
     "output_type": "stream",
     "text": [
      "['tamil', 'hindi', 'malayalam', 'assamese', 'gujarati', 'telugu', 'odiya']\n"
     ]
    }
   ],
   "source": [
    "print(indian_languages)"
   ]
  },
  {
   "cell_type": "code",
   "execution_count": 14,
   "metadata": {},
   "outputs": [
    {
     "name": "stdout",
     "output_type": "stream",
     "text": [
      "['tamil', 'assamese', 'gujarati', 'telugu', 'odiya']\n"
     ]
    }
   ],
   "source": [
    "#removing of elements\n",
    "#use of del------permanent delete\n",
    "del indian_languages[1]\n",
    "print(indian_languages)"
   ]
  },
  {
   "cell_type": "code",
   "execution_count": 15,
   "metadata": {},
   "outputs": [
    {
     "name": "stdout",
     "output_type": "stream",
     "text": [
      "gujarati\n",
      "['tamil', 'assamese', 'telugu', 'odiya']\n"
     ]
    }
   ],
   "source": [
    "#use of pop method\n",
    "#stores a carbon copy of the item deleted in the variable assigned to it\n",
    "x=indian_languages.pop(2)\n",
    "print(x)\n",
    "print(indian_languages)"
   ]
  },
  {
   "cell_type": "code",
   "execution_count": 16,
   "metadata": {},
   "outputs": [
    {
     "name": "stdout",
     "output_type": "stream",
     "text": [
      "odiya\n",
      "['tamil', 'assamese', 'telugu']\n"
     ]
    }
   ],
   "source": [
    "y=indian_languages.pop()\n",
    "print(y)\n",
    "print(indian_languages)"
   ]
  },
  {
   "cell_type": "code",
   "execution_count": null,
   "metadata": {},
   "outputs": [],
   "source": []
  }
 ],
 "metadata": {
  "kernelspec": {
   "display_name": "Python 3",
   "language": "python",
   "name": "python3"
  },
  "language_info": {
   "codemirror_mode": {
    "name": "ipython",
    "version": 3
   },
   "file_extension": ".py",
   "mimetype": "text/x-python",
   "name": "python",
   "nbconvert_exporter": "python",
   "pygments_lexer": "ipython3",
   "version": "3.7.6"
  }
 },
 "nbformat": 4,
 "nbformat_minor": 4
}
